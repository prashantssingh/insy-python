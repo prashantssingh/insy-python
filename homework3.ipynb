{
  "nbformat": 4,
  "nbformat_minor": 5,
  "metadata": {
    "kernelspec": {
      "display_name": "Python 3",
      "language": "python",
      "name": "python3"
    },
    "language_info": {
      "codemirror_mode": {
        "name": "ipython",
        "version": 3
      },
      "file_extension": ".py",
      "mimetype": "text/x-python",
      "name": "python",
      "nbconvert_exporter": "python",
      "pygments_lexer": "ipython3",
      "version": "3.7.8"
    },
    "colab": {
      "name": "homework3.ipynb",
      "provenance": [],
      "collapsed_sections": []
    }
  },
  "cells": [
    {
      "cell_type": "code",
      "metadata": {
        "id": "differential-mailing"
      },
      "source": [
        "import random\n",
        "import math"
      ],
      "id": "differential-mailing",
      "execution_count": 69,
      "outputs": []
    },
    {
      "cell_type": "code",
      "metadata": {
        "id": "consistent-preference"
      },
      "source": [
        "def process_word(filename):\n",
        "  # main word_dict out of the words file\n",
        "  words_dict = dict()\n",
        "  try:\n",
        "    with open(filename) as file:\n",
        "      for line in file:\n",
        "        # A word can have multiple meaning\n",
        "        # First split the word by \",\" to separate word and meanings, and then\n",
        "        # separste meaning by \";\" \n",
        "        word, meanings = line.split(\",\")\n",
        "        meanings = meanings.split(\";\")\n",
        "        \n",
        "        # add the meanings to the list associated with this word and return at the end\n",
        "        words_dict[word.lower()] = words_dict.get(word.lower(), []) + meanings\n",
        "      \n",
        "      return words_dict\n",
        "  except Exception as e:\n",
        "    print(e)  "
      ],
      "id": "consistent-preference",
      "execution_count": 70,
      "outputs": []
    },
    {
      "cell_type": "code",
      "metadata": {
        "id": "global-mitchell"
      },
      "source": [
        "def guess_word(words_dict):\n",
        "  # randomly choose a word from the words_dict and its meaning\n",
        "  word = random.choice(list(words_dict.keys()))\n",
        "  meanings = words_dict[word]\n",
        "\n",
        "  # scramble the word and prompt it to the user to guess the word\n",
        "  letters = list(word)\n",
        "  random.shuffle(letters)\n",
        "  scrambled_word = \"\".join(letters)\n",
        "  print(f'Unscramble the following letters to form a word. Type “?” for the meaning of the unscrambled word: {scrambled_word}')\n",
        "  \n",
        "  # Keep asking the user..\n",
        "  while True:\n",
        "    # Prompt user to input the word or ask for its menaing\n",
        "    user_input = input('Enter the answer [or ? for the meaning]: ')\n",
        "    if user_input == \"?\":\n",
        "      print(f'The word means: {random.choice(meanings)}')\n",
        "      continue\n",
        "    \n",
        "    # Check if the word entered is the same as the one we randomly selected\n",
        "    # Ask if the user wants to continue: If yes, call the guess_word() func again\n",
        "    # else break\n",
        "    if user_input.lower() == word:\n",
        "      choice = input('You got it! Do you want to continue [yes or no]: ')\n",
        "      if choice.lower() == \"yes\":\n",
        "        guess_word(words_dict)\n",
        "      break\n",
        "    else:\n",
        "      print(\"Wrong, try again\")\n"
      ],
      "id": "global-mitchell",
      "execution_count": 71,
      "outputs": []
    },
    {
      "cell_type": "code",
      "metadata": {
        "id": "seasonal-istanbul",
        "colab": {
          "base_uri": "https://localhost:8080/"
        },
        "outputId": "23373a1b-1945-48b0-d393-a4e700d2286a"
      },
      "source": [
        "try:\n",
        "  # read the file and process words by calling the function\n",
        "  input_file = input('Give the name of the “words and their meanings” file: ')\n",
        "  words_dict = process_word(input_file)\n",
        "  \n",
        "  # call the guess_word() to prompt user to guess the word\n",
        "  word = random.choice(list(words_dict.keys()))\n",
        "  guess_word(words_dict)\n",
        "\n",
        "# capture all exception raised while running the program here\n",
        "except Exception as e:\n",
        "    print(e)"
      ],
      "id": "seasonal-istanbul",
      "execution_count": 72,
      "outputs": [
        {
          "output_type": "stream",
          "text": [
            "Give the name of the “words and their meanings” file: /content/mywords.txt\n",
            "Unscramble the following letters to form a word. Type “?” for the meaning of the unscrambled word: loneceup\n",
            "Enter the answer [or ? for the meaning]:?\n",
            "The word means: great wealth\n",
            "\n",
            "Enter the answer [or ? for the meaning]:opulence\n",
            "You got it! Do you want to continue [yes or no]:no\n"
          ],
          "name": "stdout"
        }
      ]
    },
    {
      "cell_type": "code",
      "metadata": {
        "id": "favorite-county"
      },
      "source": [
        "def load_reviews(filename):\n",
        "  # Main dictionary to hold restaurant and rating for each reviewer\n",
        "  reviewers_dict = dict()\n",
        "  try:\n",
        "    # open file and for each line in the file, first strip the newline character and then\n",
        "    # if the line is not empty, add entry in the dictionary\n",
        "    with open(filename) as file:\n",
        "      for line in file:\n",
        "        line = line.strip()\n",
        "\n",
        "        # First element is the reviewers name and then it is a combination of restaurant  \n",
        "        # and rating separated by character -- \",\"\n",
        "        if line:\n",
        "          elems = line.split(\",\")\n",
        "          reviewer = elems[0]\n",
        "          \n",
        "          reviews_dict = dict()\n",
        "          for i in range(1, len(elems), 2):\n",
        "            reviews_dict[elems[i]]= elems[i+1]\n",
        "\n",
        "          # finally add it to the dictionary under the reviewer name\n",
        "          reviewers_dict[reviewer] = reviews_dict\n",
        "        \n",
        "    return reviewers_dict\n",
        "  except Exception as e:\n",
        "    print(e)"
      ],
      "id": "favorite-county",
      "execution_count": 73,
      "outputs": []
    },
    {
      "cell_type": "code",
      "metadata": {
        "id": "fjRxm3N7nxhC"
      },
      "source": [
        "# compare_reviews() func take the reviewers to compare and the reviewer_dict()\n",
        "def compare_reviews(reviewers_dict, reviewer1, reviewer2):\n",
        "  # Get reviews from the dictionary, empty dictionary if the reviewer is not present\n",
        "  reviews1, reviews2 = reviewers_dict.get(reviewer1, {}), reviewers_dict.get(reviewer2, {})\n",
        "  similarity_score = 0\n",
        "\n",
        "  # For the restaurant and rating if the restaurant is present in the second review, then\n",
        "  # find the euclidian distance between the two reviews\n",
        "  for rest, rating1 in reviews1.items():\n",
        "    if rest in reviews2:\n",
        "      rating1 = float(rating1)\n",
        "      rating2 = float(reviews2[rest])\n",
        "      similarity_score += (rating1-rating2) ** 2\n",
        "\n",
        "  # round the score to 2 digits after taking the square root\n",
        "  return round(math.sqrt(similarity_score), 2)"
      ],
      "id": "fjRxm3N7nxhC",
      "execution_count": 77,
      "outputs": []
    },
    {
      "cell_type": "code",
      "metadata": {
        "id": "A2P4bC5umVl-"
      },
      "source": [
        "def similarity_score(reviewers_dict):\n",
        "  # keep this running unless user select input = 3\n",
        "  while True:\n",
        "    # read input and only go forward if it is one of options in the list -- [1, 2, 3]\n",
        "    option = int(input('What  do  you  want  to  do?  Input  1  for  similarity  between  two  reviewers,  or Input 2 for similarity between one reviewer and all others in the database or 3 to quit:'))\n",
        "    if option not in set((1,2,3)):\n",
        "      print(\"Invalid option. Please provide valid option.\")\n",
        "      continue\n",
        "\n",
        "    # For option 1, ask for 2 reviewers and call the compare_reviews() func\n",
        "    if option == 1:\n",
        "      reviewer1 = input(\"Provide Reviewer1 name: \")\n",
        "      reviewer2 = input(\"Provide Reviewer2 name: \")\n",
        "      score = compare_reviews(reviewers_dict, reviewer1, reviewer2)\n",
        "      print(f\"The similarity score between {reviewer1} and {reviewer2} is: {score}\")\n",
        "\n",
        "    # For option 2, ask for just one reviewer and iteratively call for compare_reviews() func\n",
        "    # for all the reviewers other than one provided by user and keep printing the score\n",
        "    if option == 2:\n",
        "      reviewer1 = input(\"Provide Reviewer name: \")\n",
        "      print(\"The Similarity Scores are: \")\n",
        "      for reviewer2 in reviewers_dict:\n",
        "        if reviewer1 != reviewer2:\n",
        "          score = compare_reviews(reviewers_dict, reviewer1, reviewer2)\n",
        "          print(f\"{reviewer1}\\t\\t{reviewer2}\\t\\t{score}\")\n",
        "\n",
        "    # For option 3, stop the program\n",
        "    if option == 3:\n",
        "      print(\"Goodbye!\")\n",
        "      return\n",
        "      "
      ],
      "id": "A2P4bC5umVl-",
      "execution_count": 75,
      "outputs": []
    },
    {
      "cell_type": "code",
      "metadata": {
        "colab": {
          "base_uri": "https://localhost:8080/"
        },
        "id": "graduate-bradley",
        "outputId": "52136cbd-f027-4f9b-ae77-242b49b8e14b"
      },
      "source": [
        "try:\n",
        "  # read the absolute from user input\n",
        "  restaurant_reviews = input('Give the name of the restaurant reviews file: ')\n",
        "\n",
        "  # make dictionary out of the review-file and the calculate similarity score\n",
        "  reviewers_dict = load_reviews(restaurant_reviews)\n",
        "  similarity_score(reviewers_dict)\n",
        "\n",
        "# capture all exception raised while running the program here\n",
        "except Exception as e:\n",
        "    print(e)"
      ],
      "id": "graduate-bradley",
      "execution_count": 78,
      "outputs": [
        {
          "output_type": "stream",
          "text": [
            "Give the name of the restaurant reviews file: /content/restaurant_reviews.txt\n",
            "What  do  you  want  to  do?  Input  1  for  similarity  between  two  reviewers,  or Input 2 for similarity between one reviewer and all others in the database or 3 to quit:2\n",
            "Provide Reviewer name: Jay Samuel\n",
            "The Similarity Scores are: \n",
            "Jay Samuel\t\tTomm Sietsema\t\t1.87\n",
            "Jay Samuel\t\tJonathan Golder\t\t2.87\n",
            "Jay Samuel\t\tBrette Anderson\t\t1.58\n",
            "Jay Samuel\t\tMichael Baumer\t\t1.8\n",
            "Jay Samuel\t\tCorby Kumar\t\t1.5\n",
            "Jay Samuel\t\tPete Wellsworth\t\t2.74\n",
            "What  do  you  want  to  do?  Input  1  for  similarity  between  two  reviewers,  or Input 2 for similarity between one reviewer and all others in the database or 3 to quit:3\n",
            "Goodbye!\n"
          ],
          "name": "stdout"
        }
      ]
    }
  ]
}