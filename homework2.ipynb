{
  "nbformat": 4,
  "nbformat_minor": 0,
  "metadata": {
    "colab": {
      "name": "homework2.ipynb",
      "provenance": [],
      "collapsed_sections": []
    },
    "kernelspec": {
      "name": "python3",
      "display_name": "Python 3"
    },
    "language_info": {
      "name": "python"
    }
  },
  "cells": [
    {
      "cell_type": "code",
      "metadata": {
        "id": "N2dsE9M2bbZ6"
      },
      "source": [
        "# imports for this notebook\n",
        "import random"
      ],
      "execution_count": 45,
      "outputs": []
    },
    {
      "cell_type": "code",
      "metadata": {
        "id": "uHHj6-ELXKwO"
      },
      "source": [
        "# Q1. Rock, Paper, Scissor game\n",
        "def game(user_hand):\n",
        "  # make a list of all possible hands\n",
        "  hands = list((\"rock\", \"paper\", \"scissors\"))\n",
        "\n",
        "  # use random.choice() to randomly choose one of the possible hand for computer\n",
        "  computer_hand = random.choice(hands)\n",
        "  print(f\"Computer chooses {computer_hand}\")\n",
        "\n",
        "  # if both computer and user have chosen the same hand, print \"tie\"\n",
        "  if user_hand == computer_hand:\n",
        "      print(\"User and computer tie!\")\n",
        "\n",
        "  # As, Rock smashes scissors, if user has chosen rock and computer has chosen\n",
        "  # scissors, the user wins. Otherwise, the computer wins. Print appropriate \n",
        "  # message after comparing the two chosen hands\n",
        "  elif user_hand == \"rock\":\n",
        "      if computer_hand == \"scissors\":\n",
        "          print(\"You, the user, win!\")\n",
        "      else:\n",
        "          print(\"I, the computer, win!\")\n",
        "\n",
        "  # As, Paper covers rock, if user has chosen paper and computer has chosen\n",
        "  # rock, the user wins. Otherwise, the computer wins. Print appropriate \n",
        "  # message after comparing the two chosen hands\n",
        "  elif user_hand == \"paper\":\n",
        "      if computer_hand == \"rock\":\n",
        "          print(\"You, the user, win!\")\n",
        "      else:\n",
        "          print(\"I, the computer, win!\")\n",
        "  \n",
        "  # As, Scissors cuts paper, if user has chosen scissors and computer has chosen\n",
        "  # paper, the user wins. Otherwise, the computer wins. Print appropriate \n",
        "  # message after comparing the two chosen hands\n",
        "  elif user_hand == \"scissors\":\n",
        "      if computer_hand == \"paper\":\n",
        "          print(\"You, the user, win!\")\n",
        "      else:\n",
        "          print(\"I, the computer, win!\")\n"
      ],
      "execution_count": 46,
      "outputs": []
    },
    {
      "cell_type": "code",
      "metadata": {
        "colab": {
          "base_uri": "https://localhost:8080/"
        },
        "id": "zfMMoHC6XYus",
        "outputId": "635604cb-e256-4c9f-883f-b6f25aec3292"
      },
      "source": [
        "try:\n",
        "  user_input = input(\"Enter your choice: \")\n",
        "  \n",
        "  # convert user_input to lower and then check if it is one of the valid hand\n",
        "  # otherwise raise exception with a message \n",
        "  user_input.lower()\n",
        "  if user_input not in set((\"rock\", \"paper\", \"scissors\")):\n",
        "    raise Exception(\"Please enter valid hand (rock, paper or scissors).\")\n",
        "\n",
        "  game(user_input)\n",
        "\n",
        "# catch exception and print it\n",
        "except Exception as e:\n",
        "  print(e)"
      ],
      "execution_count": 47,
      "outputs": [
        {
          "output_type": "stream",
          "text": [
            "Enter your choice: rock\n",
            "Computer chooses paper\n",
            "I, the computer, win!\n"
          ],
          "name": "stdout"
        }
      ]
    },
    {
      "cell_type": "code",
      "metadata": {
        "id": "8SRH9u3Pbzub"
      },
      "source": [
        "# Q2. Guess the number\n",
        "def guess(num):\n",
        "  count = 1\n",
        "  \n",
        "  # keep guessing the number till there is matched found.\n",
        "  while True:\n",
        "    # use random.randint() to generate an integer between 1-100 and check if it\n",
        "    # is the number that the user has entered. NOTE: as randint() excludes the \n",
        "    # last number, we have to put 101, instead of 100.\n",
        "    # Break the loop and return if the match was found\n",
        "    if random.randint(1, 101) == num:\n",
        "      print(f\"You guessed {num}, and it took the program {count} iterations.\")\n",
        "      return \n",
        "\n",
        "    # otherwise just increment the count of guess-iteration\n",
        "    count += 1"
      ],
      "execution_count": 48,
      "outputs": []
    },
    {
      "cell_type": "code",
      "metadata": {
        "id": "3fAQabMUAXYK",
        "colab": {
          "base_uri": "https://localhost:8080/"
        },
        "outputId": "e947e184-4016-4a3e-864f-ecfe94558c2e"
      },
      "source": [
        "try:\n",
        "  number = int(input(\"Enter number to be guessed: \"))\n",
        "  \n",
        "  # raise ValueError exception if number is less than 1 or greater than 100\n",
        "  if not 1 <= number <= 100:\n",
        "    raise Exception(\"Please enter valid number (between 1 and 100).\")\n",
        "\n",
        "  guess(number)\n",
        "\n",
        "# capture all exception raised while running the program here\n",
        "except Exception as e:\n",
        "  print(e)"
      ],
      "execution_count": 49,
      "outputs": [
        {
          "output_type": "stream",
          "text": [
            "Enter number to be guessed: 34\n",
            "You guessed 34, and it took the program 164 iterations.\n"
          ],
          "name": "stdout"
        }
      ]
    },
    {
      "cell_type": "code",
      "metadata": {
        "id": "fp4x8ybSDopa"
      },
      "source": [
        "# Q3. Count letter as the start of the word\n",
        "def count_start(text, letter):\n",
        "  # split the word by whitespace first\n",
        "  words = text.split()\n",
        "\n",
        "  count = 0\n",
        "  for word in words:\n",
        "    # for each word check if the word starts with the letter user entered\n",
        "    # if yes, increase the count\n",
        "    if word.startswith(letter):\n",
        "      count += 1\n",
        "\n",
        "  # finally, print the occurences of the first letter \n",
        "  print(f\"Your letter {letter} occurs as the first letter: {count} times\") "
      ],
      "execution_count": 50,
      "outputs": []
    },
    {
      "cell_type": "code",
      "metadata": {
        "colab": {
          "base_uri": "https://localhost:8080/"
        },
        "id": "sAz9KjKlDck_",
        "outputId": "8a3f5936-99c7-41d9-8d1c-74eb22ddbe39"
      },
      "source": [
        "try:\n",
        "  # prompt user to enter text-line and the letter to search\n",
        "  text = input(\"Enter your line of text: \")\n",
        "  letter = input(\"Enter your letter to use: \")\n",
        "\n",
        "  count_start(text, letter)\n",
        "\n",
        "# capture all exception raised while running the program here\n",
        "except Exception as e:\n",
        "  print(e)"
      ],
      "execution_count": 51,
      "outputs": [
        {
          "output_type": "stream",
          "text": [
            "Enter your line of text: Where the mind is without fear and the head is held high\n",
            "Enter your letter to use: i\n",
            "Your letter i occurs as the first letter: 2 times\n"
          ],
          "name": "stdout"
        }
      ]
    },
    {
      "cell_type": "code",
      "metadata": {
        "id": "pSYPfqjqEfgR"
      },
      "source": [
        "# Q4. Check if a string is palindrome\n",
        "def check_palindrome(string):\n",
        "  # convert the string to lowercase to ignore case-senstive matching.\n",
        "  new_string = string.lower()\n",
        "\n",
        "  # remove all whitespaces as they will conflict in determining if a string is\n",
        "  # palindrome or not.\n",
        "  new_string = new_string.replace(\" \", \"\")\n",
        "\n",
        "  # check the first character with the last character of the string and second  \n",
        "  # character with the second last one and so on..\n",
        "  # If any character mismatches, the string is not a palindrome.\n",
        "  for i in range(len(new_string)//2):\n",
        "    if new_string[i] != new_string[len(new_string)-i-1]:\n",
        "      return f\"'{string}' is not plaindrome\"\n",
        "\n",
        "  return f\"'{string}' is a plaindrome\" \n",
        "  "
      ],
      "execution_count": 52,
      "outputs": []
    },
    {
      "cell_type": "code",
      "metadata": {
        "id": "ySl4DqDbEfo8",
        "colab": {
          "base_uri": "https://localhost:8080/"
        },
        "outputId": "e3b0f412-9691-457d-9827-9bcbbe5f8647"
      },
      "source": [
        "try:\n",
        "  # prompt user to enter text-line and the letter to search\n",
        "  string = input(\"Enter a string: \")\n",
        "  \n",
        "  print(check_palindrome(string))\n",
        "\n",
        "# capture all exception raised while running the program here\n",
        "except Exception as e:\n",
        "  print(e)"
      ],
      "execution_count": 53,
      "outputs": [
        {
          "output_type": "stream",
          "text": [
            "Enter a string: A nut for a jar of salmon\n",
            "'A nut for a jar of salmon' is not plaindrome\n"
          ],
          "name": "stdout"
        }
      ]
    },
    {
      "cell_type": "code",
      "metadata": {
        "id": "MdwZ5DB0WrL4"
      },
      "source": [
        "def print_file_stats(data):\n",
        "  line_count, word_count, character_count = 0, 0, 0\n",
        "\n",
        "  # split the read data by newlines\n",
        "  lines = data.split(\"\\n\")\n",
        "  line_count = len(lines)\n",
        "\n",
        "  words = list()\n",
        "  # for each line in lines list, split it by whitespace and add them to words list\n",
        "  for line in lines:\n",
        "    words.extend(line.split())\n",
        "\n",
        "  # take count of all the words and that is the overall word-count\n",
        "  word_count = len(words)\n",
        "\n",
        "  # for each word, count number of chars and keep adding it to the character_count\n",
        "  for word in words:\n",
        "    character_count += len(word)\n",
        "\n",
        "  avg_word_len = round((character_count /word_count), 1)\n",
        "  # finally, print all the stats from above\n",
        "  # for average length of a word, simply divide the character_count by word_count \n",
        "  print(f\"\"\"Number of lines: {line_count}\n",
        "Number of words: {word_count}\n",
        "Number of characters: {character_count}\n",
        "Average length of a word: {avg_word_len}\n",
        "  \"\"\")"
      ],
      "execution_count": 54,
      "outputs": []
    },
    {
      "cell_type": "code",
      "metadata": {
        "colab": {
          "base_uri": "https://localhost:8080/"
        },
        "id": "oSssRoVkVdvM",
        "outputId": "b2563e9e-8033-41b5-b58f-f3abe220c3ab"
      },
      "source": [
        "try:\n",
        "  # this requires user to input absolute file path so that the program does not \n",
        "  # need to guess it and can directly use the path to retrieve the file.\n",
        "  # This is done in order to have extensibility on multiple file systems.\n",
        "  filename = input(\"NOTE: Please enter absolute path to the file.\\nWhat is the filename:\")\n",
        "  with open(filename, \"r\") as file:\n",
        "    data = file.read()\n",
        "\n",
        "  print_file_stats(data)\n",
        "\n",
        "# capture file not found error\n",
        "except FileNotFoundError as fnf_error:\n",
        "  print(fnf_error)\n",
        "\n",
        "# capture all other exceptions\n",
        "except Exception as e:\n",
        "  print(e)"
      ],
      "execution_count": 55,
      "outputs": [
        {
          "output_type": "stream",
          "text": [
            "NOTE: Please enter absolute path to the file.\n",
            "What is the filename:/RobertFrost.txt\n",
            "Number of lines: 4\n",
            "Number of words: 27\n",
            "Number of characters: 103\n",
            "Average length of a word: 3.8\n",
            "  \n"
          ],
          "name": "stdout"
        }
      ]
    }
  ]
}