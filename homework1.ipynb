{
  "nbformat": 4,
  "nbformat_minor": 0,
  "metadata": {
    "colab": {
      "name": "homework1.ipynb",
      "provenance": [],
      "collapsed_sections": []
    },
    "kernelspec": {
      "name": "python3",
      "display_name": "Python 3"
    }
  },
  "cells": [
    {
      "cell_type": "code",
      "metadata": {
        "id": "iT2C-B500l1e"
      },
      "source": [
        "# Q1. "
      ],
      "execution_count": 15,
      "outputs": []
    },
    {
      "cell_type": "code",
      "metadata": {
        "id": "9VJGwg8u0wzQ"
      },
      "source": [
        "def compare_string(string1, string2, string3):\n",
        "  if (string1 + string2 == string3) or (string2 + string1 == string3):\n",
        "    return \"The two strings are equal\"\n",
        "  \n",
        "  return \"The two strings are not equal\""
      ],
      "execution_count": 16,
      "outputs": []
    },
    {
      "cell_type": "code",
      "metadata": {
        "id": "53nRo5Ja1jtH",
        "colab": {
          "base_uri": "https://localhost:8080/"
        },
        "outputId": "fadd9ebb-2f63-4be4-a27c-fd8dbd576502"
      },
      "source": [
        "string1 = input(\"Enter first string:\")\n",
        "string2 = input(\"Enter second string:\")\n",
        "string3 = input(\"Enter third string:\")\n",
        "print(compare_string(string1, string2, string3))"
      ],
      "execution_count": 17,
      "outputs": [
        {
          "output_type": "stream",
          "text": [
            "Enter first string:a\n",
            "Enter second string:b!\n",
            "Enter third string:ab\n",
            "The two strings are not equal\n"
          ],
          "name": "stdout"
        }
      ]
    },
    {
      "cell_type": "code",
      "metadata": {
        "id": "8yWdBLK32Wfi"
      },
      "source": [
        "# Q2. "
      ],
      "execution_count": 18,
      "outputs": []
    },
    {
      "cell_type": "code",
      "metadata": {
        "id": "-CQ7SOuD2ynj"
      },
      "source": [
        "def get_max(arr):\n",
        "  max_elem = arr[0]\n",
        "  for elem in arr:\n",
        "    if elem > max_elem:\n",
        "      max_elem = elem\n",
        "\n",
        "  return max_elem\n",
        "\n",
        "def get_min(arr4):\n",
        "  min_elem = arr[0]\n",
        "  for elem in arr:\n",
        "    if elem < min_elem:\n",
        "      min_elem = elem\n",
        "\n",
        "  return min_elem\n",
        "\n",
        "def get_average(arr):\n",
        "  length, sum = 0, 0\n",
        "  for elem in arr:\n",
        "    sum += elem\n",
        "    length += 1\n",
        "\n",
        "  return sum/length\n",
        "\n",
        "def get_median(arr):\n",
        "  length = len(arr) \n",
        "  arr.sort() \n",
        "    \n",
        "  if length % 2 == 0: \n",
        "      return (arr[length//2] + arr[length//2 - 1])/2\n",
        "  else: \n",
        "     return arr[n//2] \n",
        "   \n",
        "def print_stats(arr):\n",
        "  print(f\"The average of numbers - {arr} is: {get_average(arr)}\")\n",
        "\n",
        "  if len(arr) == 3:\n",
        "    print(f\"The maximum of the three number is: {get_max(arr)}\")\n",
        "    print(f\"The minimum of the three number is: {get_min(arr)}\")\n",
        "    print(f\"The median of the three number is: {get_median(arr)}\")\n",
        "  else:\n",
        "    print(f\"The maximum of the four number is: {get_max(arr)}\")\n",
        "    print(f\"The minimum of the four number is: {get_min(arr)}\")\n",
        "    print(f\"The median of the four number is: {get_median(arr)}\")\n"
      ],
      "execution_count": 19,
      "outputs": []
    },
    {
      "cell_type": "code",
      "metadata": {
        "id": "0mYJIQij3Gp5"
      },
      "source": [
        "integer_count = int(input(\"Enter set of 3 or 4 integers:\"))\n",
        "first_num = int(input(\"Enter first number:\"))\n",
        "second_num = int(input(\"Enter second number:\"))\n",
        "third_num = int(input(\"Enter third number:\"))\n",
        "integers = list((first_num, second_num, third_num))\n",
        "if integer_count == 4:\n",
        "  fourth_num = int(input(\"Enter fourth number:\"))\n",
        "  integers.append(fourth_num)\n",
        "\n",
        "print_stats(integers)"
      ],
      "execution_count": null,
      "outputs": []
    },
    {
      "cell_type": "code",
      "metadata": {
        "id": "E69vKaHnxgFp"
      },
      "source": [
        "def check_number(integer):\n",
        "  if integer in set((0,1)):\n",
        "    print(\"It is neither prime or composite\")\n",
        "  \n",
        "  for i in range(2, integer):\n",
        "    if (integer % i) == 0:\n",
        "      print(\"It is a composite\")\n",
        "      return \n",
        "  else:\n",
        "    print(\"It is a prime\")"
      ],
      "execution_count": 30,
      "outputs": []
    },
    {
      "cell_type": "code",
      "metadata": {
        "colab": {
          "base_uri": "https://localhost:8080/"
        },
        "id": "aU6mQs4Ew-KZ",
        "outputId": "fc221edd-c893-4bb8-ab93-52ecd5781cc2"
      },
      "source": [
        "try:\n",
        "  integer = int(input(\"Enter positive integer:\"))\n",
        "  check_number(integer)\n",
        "except:\n",
        "  print(\"Error: You did not enter a positive integer\")\n"
      ],
      "execution_count": 32,
      "outputs": [
        {
          "output_type": "stream",
          "text": [
            "Enter positive integer:fg\n",
            "Error: You did not enter a positive integer\n"
          ],
          "name": "stdout"
        }
      ]
    },
    {
      "cell_type": "code",
      "metadata": {
        "id": "ExkWy_Ge1AOA"
      },
      "source": [
        "def simple_interest(principle, rate, years):\n",
        "  return (principle * rate * years) / 100"
      ],
      "execution_count": 33,
      "outputs": []
    },
    {
      "cell_type": "code",
      "metadata": {
        "id": "ZyOCV7GH124E"
      },
      "source": [
        "principle = float(input(\"Enter Principle Amount:\"))\n",
        "rate = float(input(\"Enter Interest Rate (0 to 100):\"))\n",
        "if not 0 < rate < 100:\n",
        "  print(\"Error: Entered rate was not between 0 to 100\")\n",
        "years = int(input(\"Enter years:\"))\n",
        "\n",
        "print(\"Simple Interest: \", simple_interest(principle, rate, years))"
      ],
      "execution_count": null,
      "outputs": []
    },
    {
      "cell_type": "code",
      "metadata": {
        "id": "GOyzoaOE5fbR"
      },
      "source": [
        "def check_point(x1, y1, x2, y2, x, y):\n",
        "  # validate that the (x,y) coordinates lie between (x1,y1) and (x2,y2) \n",
        "  if (x > x1 and x < x2 and y > y1 and y < y2) :\n",
        "      return True\n",
        "  return False"
      ],
      "execution_count": 36,
      "outputs": []
    },
    {
      "cell_type": "code",
      "metadata": {
        "colab": {
          "base_uri": "https://localhost:8080/"
        },
        "id": "WlMQf6Lp4-sl",
        "outputId": "f0d8d69b-b2eb-4ac6-919b-f278bbce8956"
      },
      "source": [
        "while True:\n",
        "  x1 = int(input(\"Enter x1:\"))\n",
        "  y1 = int(input(\"Enter y1:\"))\n",
        "  x2 = int(input(\"Enter x2:\"))\n",
        "  y2 = int(input(\"Enter y2:\"))\n",
        "  x = int(input(\"Enter x:\"))\n",
        "  y = int(input(\"Enter y:\"))\n",
        "  print(check_point(x1, y1, x2, y2, x, y))\n",
        "  \n",
        "  more = input(\"Do you want to continue:\")\n",
        "  if more.lower() not in set((\"y\", \"yes\")):\n",
        "    break"
      ],
      "execution_count": 40,
      "outputs": [
        {
          "output_type": "stream",
          "text": [
            "Enter x1:1\n",
            "Enter y1:3\n",
            "Enter x2:10\n",
            "Enter y2:6\n",
            "Enter x:4\n",
            "Enter y:2\n",
            "False\n",
            "Do you want to continue:y\n",
            "Enter x1:1\n",
            "Enter y1:1\n",
            "Enter x2:8\n",
            "Enter y2:5\n",
            "Enter x:5\n",
            "Enter y:4\n",
            "True\n",
            "Do you want to continue:n\n"
          ],
          "name": "stdout"
        }
      ]
    }
  ]
}